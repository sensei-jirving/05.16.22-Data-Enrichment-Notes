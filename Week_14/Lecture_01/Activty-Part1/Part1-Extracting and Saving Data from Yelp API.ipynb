{
 "cells": [
  {
   "cell_type": "markdown",
   "metadata": {
    "id": "8guYh-VR7nlX"
   },
   "source": [
    "# Part 1 - Extracting and Saving Data from Yelp API"
   ]
  },
  {
   "cell_type": "markdown",
   "metadata": {},
   "source": [
    "## Obective"
   ]
  },
  {
   "cell_type": "markdown",
   "metadata": {
    "id": "8guYh-VR7nlX"
   },
   "source": [
    "- For this CodeAlong, we will be working with the Yelp API. \n",
    "- You will use the the Yelp API to search your home town for a cuisine type of your choice.\n",
    "- Next class, we will then use Plotly Express to create a map with the Mapbox API to visualize the results.\n",
    "    \n",
    "    "
   ]
  },
  {
   "cell_type": "markdown",
   "metadata": {
    "id": "8guYh-VR7nlX"
   },
   "source": [
    "## Tools You Will Use\n",
    "- Part 1:\n",
    "    - Yelp API:\n",
    "        - Getting Started: \n",
    "            - https://www.yelp.com/developers/documentation/v3/get_started\n",
    "\n",
    "    - `YelpAPI` python package\n",
    "        -  \"YelpAPI\": https://github.com/gfairchild/yelpapi\n",
    "- Part 2:\n",
    "\n",
    "    - Plotly Express: https://plotly.com/python/getting-started/\n",
    "        - With Mapbox API: https://www.mapbox.com/\n",
    "        - `px.scatter_mapbox` [Documentation](https://plotly.com/python/scattermapbox/): \n",
    "\n",
    "\n"
   ]
  },
  {
   "cell_type": "markdown",
   "metadata": {},
   "source": [
    "### Applying Code From\n",
    "- Efficient API Calls Lesson Link: https://login.codingdojo.com/m/376/12529/88078"
   ]
  },
  {
   "cell_type": "code",
   "execution_count": 39,
   "metadata": {
    "scrolled": true
   },
   "outputs": [
    {
     "name": "stdout",
     "output_type": "stream",
     "text": [
      "Defaulting to user installation because normal site-packages is not writeable\n",
      "Requirement already satisfied: tqdm in /opt/homebrew/Caskroom/miniforge/base/envs/dojo-env-m1/lib/python3.8/site-packages (4.64.0)\n"
     ]
    }
   ],
   "source": [
    "!pip install tqdm"
   ]
  },
  {
   "cell_type": "code",
   "execution_count": 40,
   "metadata": {},
   "outputs": [],
   "source": [
    "# Standard Imports\n",
    "import numpy as np\n",
    "import pandas as pd\n",
    "import matplotlib.pyplot as plt\n",
    "import seaborn as sns\n",
    "\n",
    "# Additional Imports\n",
    "import os, json, math, time\n",
    "from yelpapi import YelpAPI\n",
    "from tqdm.notebook import tqdm_notebook"
   ]
  },
  {
   "cell_type": "markdown",
   "metadata": {
    "id": "1l3Z-79nBSX9"
   },
   "source": [
    "## 1. Registering for Required APIs"
   ]
  },
  {
   "cell_type": "markdown",
   "metadata": {
    "id": "1l3Z-79nBSX9"
   },
   "source": [
    "\n",
    "- Yelp: https://www.yelp.com/developers/documentation/v3/get_started\n"
   ]
  },
  {
   "cell_type": "markdown",
   "metadata": {},
   "source": [
    "> Check the official API documentation to know what arguments we can search for: https://www.yelp.com/developers/documentation/v3/business_search"
   ]
  },
  {
   "cell_type": "markdown",
   "metadata": {},
   "source": [
    "### Load Credentials and Create Yelp API Object"
   ]
  },
  {
   "cell_type": "code",
   "execution_count": 41,
   "metadata": {
    "ExecuteTime": {
     "end_time": "2022-03-25T18:20:46.629934Z",
     "start_time": "2022-03-25T18:20:45.915864Z"
    },
    "colab": {
     "base_uri": "https://localhost:8080/"
    },
    "id": "xJYqVvNkE36a",
    "outputId": "67798160-dea2-41fc-9040-2b3833efa560"
   },
   "outputs": [
    {
     "data": {
      "text/plain": [
       "dict_keys(['Client-ID', 'API Key'])"
      ]
     },
     "execution_count": 41,
     "metadata": {},
     "output_type": "execute_result"
    }
   ],
   "source": [
    "# Load API Credentials\n",
    "with open('/Users/codingdojo/.secret/yelp-api.json') as f:\n",
    "    creds = json.load(f)\n",
    "creds.keys()"
   ]
  },
  {
   "cell_type": "code",
   "execution_count": 42,
   "metadata": {},
   "outputs": [
    {
     "data": {
      "text/plain": [
       "<yelpapi.yelpapi.YelpAPI at 0x299fa6640>"
      ]
     },
     "execution_count": 42,
     "metadata": {},
     "output_type": "execute_result"
    }
   ],
   "source": [
    "# Instantiate YelpAPI Variable\n",
    "yelp = YelpAPI(creds['API Key'], timeout_s=5)\n",
    "yelp"
   ]
  },
  {
   "cell_type": "markdown",
   "metadata": {},
   "source": [
    "### Define Search Terms and File Paths"
   ]
  },
  {
   "cell_type": "code",
   "execution_count": 43,
   "metadata": {},
   "outputs": [],
   "source": [
    "# set our API call parameters and filename before the first call\n",
    "LOCATION = \"Baltimore, MD 21202\"\n",
    "TERM = \"Burgers\""
   ]
  },
  {
   "cell_type": "code",
   "execution_count": 44,
   "metadata": {},
   "outputs": [],
   "source": [
    "## Specify folder for saving data\n",
    "FOLDER = \"Data/\"\n",
    "os.makedirs(FOLDER, exist_ok=True)"
   ]
  },
  {
   "cell_type": "code",
   "execution_count": 45,
   "metadata": {},
   "outputs": [
    {
     "data": {
      "text/plain": [
       "'Data/baltimore burgers.json'"
      ]
     },
     "execution_count": 45,
     "metadata": {},
     "output_type": "execute_result"
    }
   ],
   "source": [
    "# Specifying JSON_FILE filename (can include a folder)\n",
    "JSON_FILE = FOLDER+\"baltimore burgers.json\"\n",
    "JSON_FILE"
   ]
  },
  {
   "cell_type": "code",
   "execution_count": 46,
   "metadata": {},
   "outputs": [
    {
     "data": {
      "text/plain": [
       "'Burgers'"
      ]
     },
     "execution_count": 46,
     "metadata": {},
     "output_type": "execute_result"
    }
   ],
   "source": [
    "TERM"
   ]
  },
  {
   "cell_type": "code",
   "execution_count": 47,
   "metadata": {},
   "outputs": [
    {
     "data": {
      "text/plain": [
       "'Baltimore'"
      ]
     },
     "execution_count": 47,
     "metadata": {},
     "output_type": "execute_result"
    }
   ],
   "source": [
    "LOCATION.split(',')[0]"
   ]
  },
  {
   "cell_type": "code",
   "execution_count": 48,
   "metadata": {},
   "outputs": [
    {
     "data": {
      "text/plain": [
       "'Data/Baltimore-Burgers.json'"
      ]
     },
     "execution_count": 48,
     "metadata": {},
     "output_type": "execute_result"
    }
   ],
   "source": [
    "# Specifying JSON_FILE filename (can include a folder)\n",
    "JSON_FILE = FOLDER+ f\"{LOCATION.split(',')[0]}-{TERM}.json\"\n",
    "JSON_FILE"
   ]
  },
  {
   "cell_type": "code",
   "execution_count": null,
   "metadata": {},
   "outputs": [],
   "source": []
  },
  {
   "cell_type": "markdown",
   "metadata": {},
   "source": [
    "### Check if Json File exists and Create it if it doesn't"
   ]
  },
  {
   "cell_type": "markdown",
   "metadata": {},
   "source": [
    "### Make the first API call to get the first page of data"
   ]
  },
  {
   "cell_type": "markdown",
   "metadata": {},
   "source": [
    "- We will use this first result to check:\n",
    "    - how many total results there are?\n",
    "    - Where is the actual data we want to save?\n",
    "    - how many results do we get at a time?\n"
   ]
  },
  {
   "cell_type": "code",
   "execution_count": 49,
   "metadata": {},
   "outputs": [
    {
     "data": {
      "text/plain": [
       "dict"
      ]
     },
     "execution_count": 49,
     "metadata": {},
     "output_type": "execute_result"
    }
   ],
   "source": [
    "# use our yelp_api variable's search_query method to perform our API call\n",
    "results = yelp.search_query(term=TERM, location=LOCATION)\n",
    "type(results)"
   ]
  },
  {
   "cell_type": "code",
   "execution_count": 50,
   "metadata": {},
   "outputs": [
    {
     "data": {
      "text/plain": [
       "dict_keys(['businesses', 'total', 'region'])"
      ]
     },
     "execution_count": 50,
     "metadata": {},
     "output_type": "execute_result"
    }
   ],
   "source": [
    "results.keys()"
   ]
  },
  {
   "cell_type": "code",
   "execution_count": 51,
   "metadata": {
    "scrolled": false
   },
   "outputs": [
    {
     "data": {
      "text/plain": [
       "list"
      ]
     },
     "execution_count": 51,
     "metadata": {},
     "output_type": "execute_result"
    }
   ],
   "source": [
    "type(results['businesses'])"
   ]
  },
  {
   "cell_type": "code",
   "execution_count": 52,
   "metadata": {},
   "outputs": [
    {
     "data": {
      "text/plain": [
       "20"
      ]
     },
     "execution_count": 52,
     "metadata": {},
     "output_type": "execute_result"
    }
   ],
   "source": [
    "len(results['businesses'])"
   ]
  },
  {
   "cell_type": "code",
   "execution_count": 53,
   "metadata": {},
   "outputs": [
    {
     "data": {
      "text/plain": [
       "527"
      ]
     },
     "execution_count": 53,
     "metadata": {},
     "output_type": "execute_result"
    }
   ],
   "source": [
    "results['total']"
   ]
  },
  {
   "cell_type": "code",
   "execution_count": 54,
   "metadata": {},
   "outputs": [
    {
     "data": {
      "text/html": [
       "<div>\n",
       "<style scoped>\n",
       "    .dataframe tbody tr th:only-of-type {\n",
       "        vertical-align: middle;\n",
       "    }\n",
       "\n",
       "    .dataframe tbody tr th {\n",
       "        vertical-align: top;\n",
       "    }\n",
       "\n",
       "    .dataframe thead th {\n",
       "        text-align: right;\n",
       "    }\n",
       "</style>\n",
       "<table border=\"1\" class=\"dataframe\">\n",
       "  <thead>\n",
       "    <tr style=\"text-align: right;\">\n",
       "      <th></th>\n",
       "      <th>id</th>\n",
       "      <th>alias</th>\n",
       "      <th>name</th>\n",
       "      <th>image_url</th>\n",
       "      <th>is_closed</th>\n",
       "      <th>url</th>\n",
       "      <th>review_count</th>\n",
       "      <th>categories</th>\n",
       "      <th>rating</th>\n",
       "      <th>coordinates</th>\n",
       "      <th>transactions</th>\n",
       "      <th>price</th>\n",
       "      <th>location</th>\n",
       "      <th>phone</th>\n",
       "      <th>display_phone</th>\n",
       "      <th>distance</th>\n",
       "    </tr>\n",
       "  </thead>\n",
       "  <tbody>\n",
       "    <tr>\n",
       "      <th>0</th>\n",
       "      <td>A3of5541V5SpJY-XC9WvFw</td>\n",
       "      <td>clark-burger-baltimore-3</td>\n",
       "      <td>Clark Burger</td>\n",
       "      <td>https://s3-media2.fl.yelpcdn.com/bphoto/pTrgSb...</td>\n",
       "      <td>False</td>\n",
       "      <td>https://www.yelp.com/biz/clark-burger-baltimor...</td>\n",
       "      <td>206</td>\n",
       "      <td>[{'alias': 'burgers', 'title': 'Burgers'}, {'a...</td>\n",
       "      <td>4.0</td>\n",
       "      <td>{'latitude': 39.2854812810579, 'longitude': -7...</td>\n",
       "      <td>[delivery, pickup]</td>\n",
       "      <td>$$</td>\n",
       "      <td>{'address1': '415 S Central Ave', 'address2': ...</td>\n",
       "      <td>+16673093516</td>\n",
       "      <td>(667) 309-3516</td>\n",
       "      <td>1404.572037</td>\n",
       "    </tr>\n",
       "    <tr>\n",
       "      <th>1</th>\n",
       "      <td>AQ56plNP56TIk3JswtoiMA</td>\n",
       "      <td>abbey-burger-bistro-baltimore-4</td>\n",
       "      <td>Abbey Burger Bistro</td>\n",
       "      <td>https://s3-media4.fl.yelpcdn.com/bphoto/_ZZ4nI...</td>\n",
       "      <td>False</td>\n",
       "      <td>https://www.yelp.com/biz/abbey-burger-bistro-b...</td>\n",
       "      <td>916</td>\n",
       "      <td>[{'alias': 'sportsbars', 'title': 'Sports Bars...</td>\n",
       "      <td>4.0</td>\n",
       "      <td>{'latitude': 39.2771835822848, 'longitude': -7...</td>\n",
       "      <td>[delivery, pickup]</td>\n",
       "      <td>$$</td>\n",
       "      <td>{'address1': '1041 Marshall St', 'address2': '...</td>\n",
       "      <td>+14434539698</td>\n",
       "      <td>(443) 453-9698</td>\n",
       "      <td>2161.212353</td>\n",
       "    </tr>\n",
       "    <tr>\n",
       "      <th>2</th>\n",
       "      <td>3j6GTI0V2Jshw8e1c3uFoA</td>\n",
       "      <td>the-urban-burger-bar-baltimore</td>\n",
       "      <td>The Urban Burger Bar</td>\n",
       "      <td>https://s3-media4.fl.yelpcdn.com/bphoto/1zNJ5c...</td>\n",
       "      <td>False</td>\n",
       "      <td>https://www.yelp.com/biz/the-urban-burger-bar-...</td>\n",
       "      <td>35</td>\n",
       "      <td>[{'alias': 'burgers', 'title': 'Burgers'}]</td>\n",
       "      <td>4.5</td>\n",
       "      <td>{'latitude': 39.32696, 'longitude': -76.63753}</td>\n",
       "      <td>[delivery, pickup]</td>\n",
       "      <td>$$</td>\n",
       "      <td>{'address1': '3300 Clipper Mill Rd', 'address2...</td>\n",
       "      <td></td>\n",
       "      <td></td>\n",
       "      <td>4242.702639</td>\n",
       "    </tr>\n",
       "    <tr>\n",
       "      <th>3</th>\n",
       "      <td>QHVUhI8JBAcqGj1JufDcHw</td>\n",
       "      <td>wiley-gunters-baltimore</td>\n",
       "      <td>Wiley Gunters</td>\n",
       "      <td>https://s3-media3.fl.yelpcdn.com/bphoto/Lc-4k9...</td>\n",
       "      <td>False</td>\n",
       "      <td>https://www.yelp.com/biz/wiley-gunters-baltimo...</td>\n",
       "      <td>136</td>\n",
       "      <td>[{'alias': 'burgers', 'title': 'Burgers'}, {'a...</td>\n",
       "      <td>4.5</td>\n",
       "      <td>{'latitude': 39.27174, 'longitude': -76.60223}</td>\n",
       "      <td>[delivery, pickup]</td>\n",
       "      <td>$$</td>\n",
       "      <td>{'address1': '823 E Fort Ave', 'address2': '',...</td>\n",
       "      <td>+14106373699</td>\n",
       "      <td>(410) 637-3699</td>\n",
       "      <td>2754.995467</td>\n",
       "    </tr>\n",
       "    <tr>\n",
       "      <th>4</th>\n",
       "      <td>DnhKT0A9OIgFdIhzNryJBw</td>\n",
       "      <td>abbey-burger-bistro-baltimore-6</td>\n",
       "      <td>Abbey Burger Bistro</td>\n",
       "      <td>https://s3-media3.fl.yelpcdn.com/bphoto/oq4-Iy...</td>\n",
       "      <td>False</td>\n",
       "      <td>https://www.yelp.com/biz/abbey-burger-bistro-b...</td>\n",
       "      <td>268</td>\n",
       "      <td>[{'alias': 'tradamerican', 'title': 'American ...</td>\n",
       "      <td>4.0</td>\n",
       "      <td>{'latitude': 39.2822776123555, 'longitude': -7...</td>\n",
       "      <td>[delivery, pickup]</td>\n",
       "      <td>$$</td>\n",
       "      <td>{'address1': '811 S Broadway', 'address2': '',...</td>\n",
       "      <td>+14105221428</td>\n",
       "      <td>(410) 522-1428</td>\n",
       "      <td>2009.275703</td>\n",
       "    </tr>\n",
       "    <tr>\n",
       "      <th>5</th>\n",
       "      <td>jvKhto6__tCGfs2N27oWdg</td>\n",
       "      <td>the-outpost-american-tavern-baltimore-2</td>\n",
       "      <td>The Outpost American Tavern</td>\n",
       "      <td>https://s3-media2.fl.yelpcdn.com/bphoto/4bN4vA...</td>\n",
       "      <td>False</td>\n",
       "      <td>https://www.yelp.com/biz/the-outpost-american-...</td>\n",
       "      <td>184</td>\n",
       "      <td>[{'alias': 'bars', 'title': 'Bars'}, {'alias':...</td>\n",
       "      <td>4.5</td>\n",
       "      <td>{'latitude': 39.2774761241692, 'longitude': -7...</td>\n",
       "      <td>[delivery, pickup]</td>\n",
       "      <td>$$</td>\n",
       "      <td>{'address1': '1032 Riverside Ave', 'address2':...</td>\n",
       "      <td>+14433889113</td>\n",
       "      <td>(443) 388-9113</td>\n",
       "      <td>2083.657647</td>\n",
       "    </tr>\n",
       "    <tr>\n",
       "      <th>6</th>\n",
       "      <td>5CM8nuqd0od68GqQ-UGicQ</td>\n",
       "      <td>cookhouse-baltimore-2</td>\n",
       "      <td>CookHouse</td>\n",
       "      <td>https://s3-media2.fl.yelpcdn.com/bphoto/N-2JWj...</td>\n",
       "      <td>False</td>\n",
       "      <td>https://www.yelp.com/biz/cookhouse-baltimore-2...</td>\n",
       "      <td>20</td>\n",
       "      <td>[{'alias': 'newamerican', 'title': 'American (...</td>\n",
       "      <td>5.0</td>\n",
       "      <td>{'latitude': 39.30715667, 'longitude': -76.625...</td>\n",
       "      <td>[delivery, pickup]</td>\n",
       "      <td>NaN</td>\n",
       "      <td>{'address1': '1501 Bolton St', 'address2': Non...</td>\n",
       "      <td>+14102259964</td>\n",
       "      <td>(410) 225-9964</td>\n",
       "      <td>1990.078956</td>\n",
       "    </tr>\n",
       "    <tr>\n",
       "      <th>7</th>\n",
       "      <td>LkCSwCV-WX2eCnv5RUM3Kw</td>\n",
       "      <td>311-west-madison-ave-craft-beer-and-wine-resta...</td>\n",
       "      <td>311 West Madison Ave Craft Beer &amp; Wine Restaurant</td>\n",
       "      <td>https://s3-media1.fl.yelpcdn.com/bphoto/g7er6A...</td>\n",
       "      <td>False</td>\n",
       "      <td>https://www.yelp.com/biz/311-west-madison-ave-...</td>\n",
       "      <td>6</td>\n",
       "      <td>[{'alias': 'bars', 'title': 'Bars'}, {'alias':...</td>\n",
       "      <td>4.0</td>\n",
       "      <td>{'latitude': 39.298216, 'longitude': -76.620656}</td>\n",
       "      <td>[delivery, pickup]</td>\n",
       "      <td>NaN</td>\n",
       "      <td>{'address1': '311 W Madison St', 'address2': N...</td>\n",
       "      <td>+14439389109</td>\n",
       "      <td>(443) 938-9109</td>\n",
       "      <td>1141.160510</td>\n",
       "    </tr>\n",
       "    <tr>\n",
       "      <th>8</th>\n",
       "      <td>L_cDwPh8kuxkEP-VXjJF-A</td>\n",
       "      <td>shake-shack-baltimore</td>\n",
       "      <td>Shake Shack</td>\n",
       "      <td>https://s3-media2.fl.yelpcdn.com/bphoto/cORtQV...</td>\n",
       "      <td>False</td>\n",
       "      <td>https://www.yelp.com/biz/shake-shack-baltimore...</td>\n",
       "      <td>520</td>\n",
       "      <td>[{'alias': 'newamerican', 'title': 'American (...</td>\n",
       "      <td>3.5</td>\n",
       "      <td>{'latitude': 39.2871081, 'longitude': -76.6092...</td>\n",
       "      <td>[delivery, pickup]</td>\n",
       "      <td>$$</td>\n",
       "      <td>{'address1': '400 Pratt St', 'address2': '', '...</td>\n",
       "      <td>+14439733629</td>\n",
       "      <td>(443) 973-3629</td>\n",
       "      <td>1017.466641</td>\n",
       "    </tr>\n",
       "    <tr>\n",
       "      <th>9</th>\n",
       "      <td>lx6ZQjgZDvL0Rz9LmXtTKg</td>\n",
       "      <td>charmed-baltimore</td>\n",
       "      <td>Charmed.</td>\n",
       "      <td>https://s3-media2.fl.yelpcdn.com/bphoto/e9AV7X...</td>\n",
       "      <td>False</td>\n",
       "      <td>https://www.yelp.com/biz/charmed-baltimore?adj...</td>\n",
       "      <td>72</td>\n",
       "      <td>[{'alias': 'newamerican', 'title': 'American (...</td>\n",
       "      <td>5.0</td>\n",
       "      <td>{'latitude': 39.29951, 'longitude': -76.61334}</td>\n",
       "      <td>[delivery, pickup]</td>\n",
       "      <td>NaN</td>\n",
       "      <td>{'address1': '824 N Calvert St', 'address2': N...</td>\n",
       "      <td>+14438352803</td>\n",
       "      <td>(443) 835-2803</td>\n",
       "      <td>609.329117</td>\n",
       "    </tr>\n",
       "    <tr>\n",
       "      <th>10</th>\n",
       "      <td>6PLtSs9Bi4QDSNBM_u4fNg</td>\n",
       "      <td>the-brewers-art-baltimore</td>\n",
       "      <td>The Brewer's Art</td>\n",
       "      <td>https://s3-media1.fl.yelpcdn.com/bphoto/2pkJFg...</td>\n",
       "      <td>False</td>\n",
       "      <td>https://www.yelp.com/biz/the-brewers-art-balti...</td>\n",
       "      <td>1041</td>\n",
       "      <td>[{'alias': 'breweries', 'title': 'Breweries'},...</td>\n",
       "      <td>4.0</td>\n",
       "      <td>{'latitude': 39.302825295486, 'longitude': -76...</td>\n",
       "      <td>[delivery, pickup]</td>\n",
       "      <td>$$</td>\n",
       "      <td>{'address1': '1106 N Charles St', 'address2': ...</td>\n",
       "      <td>+14105476925</td>\n",
       "      <td>(410) 547-6925</td>\n",
       "      <td>1040.671677</td>\n",
       "    </tr>\n",
       "    <tr>\n",
       "      <th>11</th>\n",
       "      <td>S3keMV3sQjujV-oA-Ymxog</td>\n",
       "      <td>between-2-buns-baltimore-2</td>\n",
       "      <td>Between 2 Buns</td>\n",
       "      <td>https://s3-media1.fl.yelpcdn.com/bphoto/wfTqwH...</td>\n",
       "      <td>False</td>\n",
       "      <td>https://www.yelp.com/biz/between-2-buns-baltim...</td>\n",
       "      <td>163</td>\n",
       "      <td>[{'alias': 'burgers', 'title': 'Burgers'}, {'a...</td>\n",
       "      <td>3.5</td>\n",
       "      <td>{'latitude': 39.29588539090596, 'longitude': -...</td>\n",
       "      <td>[delivery]</td>\n",
       "      <td>$$</td>\n",
       "      <td>{'address1': '520 Park Ave', 'address2': '', '...</td>\n",
       "      <td>+16673033273</td>\n",
       "      <td>(667) 303-3273</td>\n",
       "      <td>931.324381</td>\n",
       "    </tr>\n",
       "    <tr>\n",
       "      <th>12</th>\n",
       "      <td>GOvVNYe2DwjGzwdVJIKw1Q</td>\n",
       "      <td>wicked-sisters-tavern-baltimore</td>\n",
       "      <td>Wicked Sisters Tavern</td>\n",
       "      <td>https://s3-media2.fl.yelpcdn.com/bphoto/XdSbMU...</td>\n",
       "      <td>False</td>\n",
       "      <td>https://www.yelp.com/biz/wicked-sisters-tavern...</td>\n",
       "      <td>579</td>\n",
       "      <td>[{'alias': 'tradamerican', 'title': 'American ...</td>\n",
       "      <td>4.0</td>\n",
       "      <td>{'latitude': 39.3350187678809, 'longitude': -7...</td>\n",
       "      <td>[delivery, pickup]</td>\n",
       "      <td>$$</td>\n",
       "      <td>{'address1': '3845 Falls Rd', 'address2': '', ...</td>\n",
       "      <td>+14108780884</td>\n",
       "      <td>(410) 878-0884</td>\n",
       "      <td>4974.443762</td>\n",
       "    </tr>\n",
       "    <tr>\n",
       "      <th>13</th>\n",
       "      <td>yITYeW3JZS557DIXj9Ivhg</td>\n",
       "      <td>mick-o-sheas-baltimore</td>\n",
       "      <td>Mick O'Shea's</td>\n",
       "      <td>https://s3-media1.fl.yelpcdn.com/bphoto/zPk7Ls...</td>\n",
       "      <td>False</td>\n",
       "      <td>https://www.yelp.com/biz/mick-o-sheas-baltimor...</td>\n",
       "      <td>291</td>\n",
       "      <td>[{'alias': 'pubs', 'title': 'Pubs'}, {'alias':...</td>\n",
       "      <td>4.0</td>\n",
       "      <td>{'latitude': 39.293462, 'longitude': -76.615586}</td>\n",
       "      <td>[delivery, pickup]</td>\n",
       "      <td>$$</td>\n",
       "      <td>{'address1': '328 N Charles St', 'address2': '...</td>\n",
       "      <td>+14105397504</td>\n",
       "      <td>(410) 539-7504</td>\n",
       "      <td>745.468184</td>\n",
       "    </tr>\n",
       "    <tr>\n",
       "      <th>14</th>\n",
       "      <td>WRz58h4VB9nadcyar4LGvQ</td>\n",
       "      <td>wet-city-baltimore</td>\n",
       "      <td>Wet City</td>\n",
       "      <td>https://s3-media4.fl.yelpcdn.com/bphoto/8L30rM...</td>\n",
       "      <td>False</td>\n",
       "      <td>https://www.yelp.com/biz/wet-city-baltimore?ad...</td>\n",
       "      <td>159</td>\n",
       "      <td>[{'alias': 'beerbar', 'title': 'Beer Bar'}, {'...</td>\n",
       "      <td>4.0</td>\n",
       "      <td>{'latitude': 39.3016090393066, 'longitude': -7...</td>\n",
       "      <td>[delivery]</td>\n",
       "      <td>$$</td>\n",
       "      <td>{'address1': '223 W Chase St', 'address2': '',...</td>\n",
       "      <td>+14438736699</td>\n",
       "      <td>(443) 873-6699</td>\n",
       "      <td>1143.873380</td>\n",
       "    </tr>\n",
       "    <tr>\n",
       "      <th>15</th>\n",
       "      <td>TL34QOmDmMtJmsabvPLErg</td>\n",
       "      <td>annabel-lee-tavern-baltimore</td>\n",
       "      <td>Annabel Lee Tavern</td>\n",
       "      <td>https://s3-media2.fl.yelpcdn.com/bphoto/dh6k0b...</td>\n",
       "      <td>False</td>\n",
       "      <td>https://www.yelp.com/biz/annabel-lee-tavern-ba...</td>\n",
       "      <td>610</td>\n",
       "      <td>[{'alias': 'pubs', 'title': 'Pubs'}, {'alias':...</td>\n",
       "      <td>4.5</td>\n",
       "      <td>{'latitude': 39.28538, 'longitude': -76.56961}</td>\n",
       "      <td>[restaurant_reservation, delivery, pickup]</td>\n",
       "      <td>$$</td>\n",
       "      <td>{'address1': '601 S Clinton St', 'address2': '...</td>\n",
       "      <td>+14105222929</td>\n",
       "      <td>(410) 522-2929</td>\n",
       "      <td>3485.045821</td>\n",
       "    </tr>\n",
       "    <tr>\n",
       "      <th>16</th>\n",
       "      <td>O7EO2AHxQXRHL1fqodpg7Q</td>\n",
       "      <td>daily-special-authentic-mexican-grill-baltimore-3</td>\n",
       "      <td>Daily Special authentic mexican grill</td>\n",
       "      <td>https://s3-media2.fl.yelpcdn.com/bphoto/76IbRS...</td>\n",
       "      <td>False</td>\n",
       "      <td>https://www.yelp.com/biz/daily-special-authent...</td>\n",
       "      <td>25</td>\n",
       "      <td>[{'alias': 'burgers', 'title': 'Burgers'}, {'a...</td>\n",
       "      <td>4.5</td>\n",
       "      <td>{'latitude': 39.29133, 'longitude': -76.61497}</td>\n",
       "      <td>[restaurant_reservation, delivery, pickup]</td>\n",
       "      <td>NaN</td>\n",
       "      <td>{'address1': '201 N Charles St', 'address2': N...</td>\n",
       "      <td>+14106895603</td>\n",
       "      <td>(410) 689-5603</td>\n",
       "      <td>818.337595</td>\n",
       "    </tr>\n",
       "    <tr>\n",
       "      <th>17</th>\n",
       "      <td>8xyl44uoylj8cxPnH741aQ</td>\n",
       "      <td>noisy-burger-baltimore</td>\n",
       "      <td>Noisy Burger</td>\n",
       "      <td>https://s3-media3.fl.yelpcdn.com/bphoto/Gb_hF0...</td>\n",
       "      <td>False</td>\n",
       "      <td>https://www.yelp.com/biz/noisy-burger-baltimor...</td>\n",
       "      <td>17</td>\n",
       "      <td>[{'alias': 'burgers', 'title': 'Burgers'}]</td>\n",
       "      <td>4.0</td>\n",
       "      <td>{'latitude': 39.3217276, 'longitude': -76.6222...</td>\n",
       "      <td>[delivery, pickup]</td>\n",
       "      <td>NaN</td>\n",
       "      <td>{'address1': '301 W 29th St', 'address2': None...</td>\n",
       "      <td>+14436811906</td>\n",
       "      <td>(443) 681-1906</td>\n",
       "      <td>3105.663543</td>\n",
       "    </tr>\n",
       "    <tr>\n",
       "      <th>18</th>\n",
       "      <td>t0EA_fXewpQWfzWMrpNjIw</td>\n",
       "      <td>peters-pour-house-baltimore</td>\n",
       "      <td>Peter's Pour House</td>\n",
       "      <td>https://s3-media3.fl.yelpcdn.com/bphoto/A5kRmG...</td>\n",
       "      <td>False</td>\n",
       "      <td>https://www.yelp.com/biz/peters-pour-house-bal...</td>\n",
       "      <td>231</td>\n",
       "      <td>[{'alias': 'tradamerican', 'title': 'American ...</td>\n",
       "      <td>4.0</td>\n",
       "      <td>{'latitude': 39.28841, 'longitude': -76.61299}</td>\n",
       "      <td>[delivery, pickup]</td>\n",
       "      <td>$$</td>\n",
       "      <td>{'address1': '111 Mercer St', 'address2': None...</td>\n",
       "      <td>+14105395818</td>\n",
       "      <td>(410) 539-5818</td>\n",
       "      <td>978.567909</td>\n",
       "    </tr>\n",
       "    <tr>\n",
       "      <th>19</th>\n",
       "      <td>Pu3wRgA56EQDbnNRkNo1Tg</td>\n",
       "      <td>happy-hour-heaven-baltimore-2</td>\n",
       "      <td>Happy Hour Heaven</td>\n",
       "      <td>https://s3-media1.fl.yelpcdn.com/bphoto/TJ908o...</td>\n",
       "      <td>False</td>\n",
       "      <td>https://www.yelp.com/biz/happy-hour-heaven-bal...</td>\n",
       "      <td>69</td>\n",
       "      <td>[{'alias': 'tradamerican', 'title': 'American ...</td>\n",
       "      <td>4.5</td>\n",
       "      <td>{'latitude': 39.2875800984102, 'longitude': -7...</td>\n",
       "      <td>[delivery, pickup]</td>\n",
       "      <td>$$</td>\n",
       "      <td>{'address1': '1901 Gough St', 'address2': '', ...</td>\n",
       "      <td>+14438692439</td>\n",
       "      <td>(443) 869-2439</td>\n",
       "      <td>1792.285108</td>\n",
       "    </tr>\n",
       "  </tbody>\n",
       "</table>\n",
       "</div>"
      ],
      "text/plain": [
       "                        id                                              alias  \\\n",
       "0   A3of5541V5SpJY-XC9WvFw                           clark-burger-baltimore-3   \n",
       "1   AQ56plNP56TIk3JswtoiMA                    abbey-burger-bistro-baltimore-4   \n",
       "2   3j6GTI0V2Jshw8e1c3uFoA                     the-urban-burger-bar-baltimore   \n",
       "3   QHVUhI8JBAcqGj1JufDcHw                            wiley-gunters-baltimore   \n",
       "4   DnhKT0A9OIgFdIhzNryJBw                    abbey-burger-bistro-baltimore-6   \n",
       "5   jvKhto6__tCGfs2N27oWdg            the-outpost-american-tavern-baltimore-2   \n",
       "6   5CM8nuqd0od68GqQ-UGicQ                              cookhouse-baltimore-2   \n",
       "7   LkCSwCV-WX2eCnv5RUM3Kw  311-west-madison-ave-craft-beer-and-wine-resta...   \n",
       "8   L_cDwPh8kuxkEP-VXjJF-A                              shake-shack-baltimore   \n",
       "9   lx6ZQjgZDvL0Rz9LmXtTKg                                  charmed-baltimore   \n",
       "10  6PLtSs9Bi4QDSNBM_u4fNg                          the-brewers-art-baltimore   \n",
       "11  S3keMV3sQjujV-oA-Ymxog                         between-2-buns-baltimore-2   \n",
       "12  GOvVNYe2DwjGzwdVJIKw1Q                    wicked-sisters-tavern-baltimore   \n",
       "13  yITYeW3JZS557DIXj9Ivhg                             mick-o-sheas-baltimore   \n",
       "14  WRz58h4VB9nadcyar4LGvQ                                 wet-city-baltimore   \n",
       "15  TL34QOmDmMtJmsabvPLErg                       annabel-lee-tavern-baltimore   \n",
       "16  O7EO2AHxQXRHL1fqodpg7Q  daily-special-authentic-mexican-grill-baltimore-3   \n",
       "17  8xyl44uoylj8cxPnH741aQ                             noisy-burger-baltimore   \n",
       "18  t0EA_fXewpQWfzWMrpNjIw                        peters-pour-house-baltimore   \n",
       "19  Pu3wRgA56EQDbnNRkNo1Tg                      happy-hour-heaven-baltimore-2   \n",
       "\n",
       "                                                 name  \\\n",
       "0                                        Clark Burger   \n",
       "1                                 Abbey Burger Bistro   \n",
       "2                                The Urban Burger Bar   \n",
       "3                                       Wiley Gunters   \n",
       "4                                 Abbey Burger Bistro   \n",
       "5                         The Outpost American Tavern   \n",
       "6                                           CookHouse   \n",
       "7   311 West Madison Ave Craft Beer & Wine Restaurant   \n",
       "8                                         Shake Shack   \n",
       "9                                            Charmed.   \n",
       "10                                   The Brewer's Art   \n",
       "11                                     Between 2 Buns   \n",
       "12                              Wicked Sisters Tavern   \n",
       "13                                      Mick O'Shea's   \n",
       "14                                           Wet City   \n",
       "15                                 Annabel Lee Tavern   \n",
       "16              Daily Special authentic mexican grill   \n",
       "17                                       Noisy Burger   \n",
       "18                                 Peter's Pour House   \n",
       "19                                  Happy Hour Heaven   \n",
       "\n",
       "                                            image_url  is_closed  \\\n",
       "0   https://s3-media2.fl.yelpcdn.com/bphoto/pTrgSb...      False   \n",
       "1   https://s3-media4.fl.yelpcdn.com/bphoto/_ZZ4nI...      False   \n",
       "2   https://s3-media4.fl.yelpcdn.com/bphoto/1zNJ5c...      False   \n",
       "3   https://s3-media3.fl.yelpcdn.com/bphoto/Lc-4k9...      False   \n",
       "4   https://s3-media3.fl.yelpcdn.com/bphoto/oq4-Iy...      False   \n",
       "5   https://s3-media2.fl.yelpcdn.com/bphoto/4bN4vA...      False   \n",
       "6   https://s3-media2.fl.yelpcdn.com/bphoto/N-2JWj...      False   \n",
       "7   https://s3-media1.fl.yelpcdn.com/bphoto/g7er6A...      False   \n",
       "8   https://s3-media2.fl.yelpcdn.com/bphoto/cORtQV...      False   \n",
       "9   https://s3-media2.fl.yelpcdn.com/bphoto/e9AV7X...      False   \n",
       "10  https://s3-media1.fl.yelpcdn.com/bphoto/2pkJFg...      False   \n",
       "11  https://s3-media1.fl.yelpcdn.com/bphoto/wfTqwH...      False   \n",
       "12  https://s3-media2.fl.yelpcdn.com/bphoto/XdSbMU...      False   \n",
       "13  https://s3-media1.fl.yelpcdn.com/bphoto/zPk7Ls...      False   \n",
       "14  https://s3-media4.fl.yelpcdn.com/bphoto/8L30rM...      False   \n",
       "15  https://s3-media2.fl.yelpcdn.com/bphoto/dh6k0b...      False   \n",
       "16  https://s3-media2.fl.yelpcdn.com/bphoto/76IbRS...      False   \n",
       "17  https://s3-media3.fl.yelpcdn.com/bphoto/Gb_hF0...      False   \n",
       "18  https://s3-media3.fl.yelpcdn.com/bphoto/A5kRmG...      False   \n",
       "19  https://s3-media1.fl.yelpcdn.com/bphoto/TJ908o...      False   \n",
       "\n",
       "                                                  url  review_count  \\\n",
       "0   https://www.yelp.com/biz/clark-burger-baltimor...           206   \n",
       "1   https://www.yelp.com/biz/abbey-burger-bistro-b...           916   \n",
       "2   https://www.yelp.com/biz/the-urban-burger-bar-...            35   \n",
       "3   https://www.yelp.com/biz/wiley-gunters-baltimo...           136   \n",
       "4   https://www.yelp.com/biz/abbey-burger-bistro-b...           268   \n",
       "5   https://www.yelp.com/biz/the-outpost-american-...           184   \n",
       "6   https://www.yelp.com/biz/cookhouse-baltimore-2...            20   \n",
       "7   https://www.yelp.com/biz/311-west-madison-ave-...             6   \n",
       "8   https://www.yelp.com/biz/shake-shack-baltimore...           520   \n",
       "9   https://www.yelp.com/biz/charmed-baltimore?adj...            72   \n",
       "10  https://www.yelp.com/biz/the-brewers-art-balti...          1041   \n",
       "11  https://www.yelp.com/biz/between-2-buns-baltim...           163   \n",
       "12  https://www.yelp.com/biz/wicked-sisters-tavern...           579   \n",
       "13  https://www.yelp.com/biz/mick-o-sheas-baltimor...           291   \n",
       "14  https://www.yelp.com/biz/wet-city-baltimore?ad...           159   \n",
       "15  https://www.yelp.com/biz/annabel-lee-tavern-ba...           610   \n",
       "16  https://www.yelp.com/biz/daily-special-authent...            25   \n",
       "17  https://www.yelp.com/biz/noisy-burger-baltimor...            17   \n",
       "18  https://www.yelp.com/biz/peters-pour-house-bal...           231   \n",
       "19  https://www.yelp.com/biz/happy-hour-heaven-bal...            69   \n",
       "\n",
       "                                           categories  rating  \\\n",
       "0   [{'alias': 'burgers', 'title': 'Burgers'}, {'a...     4.0   \n",
       "1   [{'alias': 'sportsbars', 'title': 'Sports Bars...     4.0   \n",
       "2          [{'alias': 'burgers', 'title': 'Burgers'}]     4.5   \n",
       "3   [{'alias': 'burgers', 'title': 'Burgers'}, {'a...     4.5   \n",
       "4   [{'alias': 'tradamerican', 'title': 'American ...     4.0   \n",
       "5   [{'alias': 'bars', 'title': 'Bars'}, {'alias':...     4.5   \n",
       "6   [{'alias': 'newamerican', 'title': 'American (...     5.0   \n",
       "7   [{'alias': 'bars', 'title': 'Bars'}, {'alias':...     4.0   \n",
       "8   [{'alias': 'newamerican', 'title': 'American (...     3.5   \n",
       "9   [{'alias': 'newamerican', 'title': 'American (...     5.0   \n",
       "10  [{'alias': 'breweries', 'title': 'Breweries'},...     4.0   \n",
       "11  [{'alias': 'burgers', 'title': 'Burgers'}, {'a...     3.5   \n",
       "12  [{'alias': 'tradamerican', 'title': 'American ...     4.0   \n",
       "13  [{'alias': 'pubs', 'title': 'Pubs'}, {'alias':...     4.0   \n",
       "14  [{'alias': 'beerbar', 'title': 'Beer Bar'}, {'...     4.0   \n",
       "15  [{'alias': 'pubs', 'title': 'Pubs'}, {'alias':...     4.5   \n",
       "16  [{'alias': 'burgers', 'title': 'Burgers'}, {'a...     4.5   \n",
       "17         [{'alias': 'burgers', 'title': 'Burgers'}]     4.0   \n",
       "18  [{'alias': 'tradamerican', 'title': 'American ...     4.0   \n",
       "19  [{'alias': 'tradamerican', 'title': 'American ...     4.5   \n",
       "\n",
       "                                          coordinates  \\\n",
       "0   {'latitude': 39.2854812810579, 'longitude': -7...   \n",
       "1   {'latitude': 39.2771835822848, 'longitude': -7...   \n",
       "2      {'latitude': 39.32696, 'longitude': -76.63753}   \n",
       "3      {'latitude': 39.27174, 'longitude': -76.60223}   \n",
       "4   {'latitude': 39.2822776123555, 'longitude': -7...   \n",
       "5   {'latitude': 39.2774761241692, 'longitude': -7...   \n",
       "6   {'latitude': 39.30715667, 'longitude': -76.625...   \n",
       "7    {'latitude': 39.298216, 'longitude': -76.620656}   \n",
       "8   {'latitude': 39.2871081, 'longitude': -76.6092...   \n",
       "9      {'latitude': 39.29951, 'longitude': -76.61334}   \n",
       "10  {'latitude': 39.302825295486, 'longitude': -76...   \n",
       "11  {'latitude': 39.29588539090596, 'longitude': -...   \n",
       "12  {'latitude': 39.3350187678809, 'longitude': -7...   \n",
       "13   {'latitude': 39.293462, 'longitude': -76.615586}   \n",
       "14  {'latitude': 39.3016090393066, 'longitude': -7...   \n",
       "15     {'latitude': 39.28538, 'longitude': -76.56961}   \n",
       "16     {'latitude': 39.29133, 'longitude': -76.61497}   \n",
       "17  {'latitude': 39.3217276, 'longitude': -76.6222...   \n",
       "18     {'latitude': 39.28841, 'longitude': -76.61299}   \n",
       "19  {'latitude': 39.2875800984102, 'longitude': -7...   \n",
       "\n",
       "                                  transactions price  \\\n",
       "0                           [delivery, pickup]    $$   \n",
       "1                           [delivery, pickup]    $$   \n",
       "2                           [delivery, pickup]    $$   \n",
       "3                           [delivery, pickup]    $$   \n",
       "4                           [delivery, pickup]    $$   \n",
       "5                           [delivery, pickup]    $$   \n",
       "6                           [delivery, pickup]   NaN   \n",
       "7                           [delivery, pickup]   NaN   \n",
       "8                           [delivery, pickup]    $$   \n",
       "9                           [delivery, pickup]   NaN   \n",
       "10                          [delivery, pickup]    $$   \n",
       "11                                  [delivery]    $$   \n",
       "12                          [delivery, pickup]    $$   \n",
       "13                          [delivery, pickup]    $$   \n",
       "14                                  [delivery]    $$   \n",
       "15  [restaurant_reservation, delivery, pickup]    $$   \n",
       "16  [restaurant_reservation, delivery, pickup]   NaN   \n",
       "17                          [delivery, pickup]   NaN   \n",
       "18                          [delivery, pickup]    $$   \n",
       "19                          [delivery, pickup]    $$   \n",
       "\n",
       "                                             location         phone  \\\n",
       "0   {'address1': '415 S Central Ave', 'address2': ...  +16673093516   \n",
       "1   {'address1': '1041 Marshall St', 'address2': '...  +14434539698   \n",
       "2   {'address1': '3300 Clipper Mill Rd', 'address2...                 \n",
       "3   {'address1': '823 E Fort Ave', 'address2': '',...  +14106373699   \n",
       "4   {'address1': '811 S Broadway', 'address2': '',...  +14105221428   \n",
       "5   {'address1': '1032 Riverside Ave', 'address2':...  +14433889113   \n",
       "6   {'address1': '1501 Bolton St', 'address2': Non...  +14102259964   \n",
       "7   {'address1': '311 W Madison St', 'address2': N...  +14439389109   \n",
       "8   {'address1': '400 Pratt St', 'address2': '', '...  +14439733629   \n",
       "9   {'address1': '824 N Calvert St', 'address2': N...  +14438352803   \n",
       "10  {'address1': '1106 N Charles St', 'address2': ...  +14105476925   \n",
       "11  {'address1': '520 Park Ave', 'address2': '', '...  +16673033273   \n",
       "12  {'address1': '3845 Falls Rd', 'address2': '', ...  +14108780884   \n",
       "13  {'address1': '328 N Charles St', 'address2': '...  +14105397504   \n",
       "14  {'address1': '223 W Chase St', 'address2': '',...  +14438736699   \n",
       "15  {'address1': '601 S Clinton St', 'address2': '...  +14105222929   \n",
       "16  {'address1': '201 N Charles St', 'address2': N...  +14106895603   \n",
       "17  {'address1': '301 W 29th St', 'address2': None...  +14436811906   \n",
       "18  {'address1': '111 Mercer St', 'address2': None...  +14105395818   \n",
       "19  {'address1': '1901 Gough St', 'address2': '', ...  +14438692439   \n",
       "\n",
       "     display_phone     distance  \n",
       "0   (667) 309-3516  1404.572037  \n",
       "1   (443) 453-9698  2161.212353  \n",
       "2                   4242.702639  \n",
       "3   (410) 637-3699  2754.995467  \n",
       "4   (410) 522-1428  2009.275703  \n",
       "5   (443) 388-9113  2083.657647  \n",
       "6   (410) 225-9964  1990.078956  \n",
       "7   (443) 938-9109  1141.160510  \n",
       "8   (443) 973-3629  1017.466641  \n",
       "9   (443) 835-2803   609.329117  \n",
       "10  (410) 547-6925  1040.671677  \n",
       "11  (667) 303-3273   931.324381  \n",
       "12  (410) 878-0884  4974.443762  \n",
       "13  (410) 539-7504   745.468184  \n",
       "14  (443) 873-6699  1143.873380  \n",
       "15  (410) 522-2929  3485.045821  \n",
       "16  (410) 689-5603   818.337595  \n",
       "17  (443) 681-1906  3105.663543  \n",
       "18  (410) 539-5818   978.567909  \n",
       "19  (443) 869-2439  1792.285108  "
      ]
     },
     "execution_count": 54,
     "metadata": {},
     "output_type": "execute_result"
    }
   ],
   "source": [
    "pd.DataFrame(results['businesses'])"
   ]
  },
  {
   "cell_type": "code",
   "execution_count": 55,
   "metadata": {},
   "outputs": [
    {
     "data": {
      "text/plain": [
       "'Data/Baltimore-Burgers.json'"
      ]
     },
     "execution_count": 55,
     "metadata": {},
     "output_type": "execute_result"
    }
   ],
   "source": [
    "JSON_FILE"
   ]
  },
  {
   "cell_type": "code",
   "execution_count": 56,
   "metadata": {},
   "outputs": [
    {
     "name": "stdout",
     "output_type": "stream",
     "text": [
      "File already exists.\n"
     ]
    }
   ],
   "source": [
    "## Check if JSON_FILE exists\n",
    "\n",
    "if os.path.isfile(JSON_FILE)==False:\n",
    "## If it does not exist: \n",
    "    ## INFORM USER AND SAVE EMPTY LIST\n",
    "    print(\"The file does not exist. Creating empty file.\")\n",
    "    \n",
    "    \n",
    "    ## save the first page of results\n",
    "    with open(JSON_FILE, 'w') as f:\n",
    "        json.dump(results['businesses'], f)\n",
    "        \n",
    "## If it exists, inform user\n",
    "else:\n",
    "    print(\"File already exists.\")\n"
   ]
  },
  {
   "cell_type": "markdown",
   "metadata": {},
   "source": [
    "### Load JSON FIle and account for previous results"
   ]
  },
  {
   "cell_type": "code",
   "execution_count": 57,
   "metadata": {},
   "outputs": [
    {
     "data": {
      "text/plain": [
       "20"
      ]
     },
     "execution_count": 57,
     "metadata": {},
     "output_type": "execute_result"
    }
   ],
   "source": [
    "## Load previous results and use len of results for offset\n",
    "prev_df = pd.read_json(JSON_FILE)\n",
    "## set offset based on previous results\n",
    "n_results = len(prev_df)\n",
    "n_results"
   ]
  },
  {
   "cell_type": "markdown",
   "metadata": {},
   "source": [
    "### Make the first API call to get the first page of data"
   ]
  },
  {
   "cell_type": "markdown",
   "metadata": {},
   "source": [
    "- We will use this first result to check:\n",
    "    - how many total results there are?\n",
    "    - Where is the actual data we want to save?\n",
    "    - how many results do we get at a time?\n"
   ]
  },
  {
   "cell_type": "code",
   "execution_count": 58,
   "metadata": {},
   "outputs": [],
   "source": [
    "# use our yelp_api variable's search_query method to perform our API call\n"
   ]
  },
  {
   "cell_type": "code",
   "execution_count": 59,
   "metadata": {
    "ExecuteTime": {
     "end_time": "2022-03-24T20:01:48.867510Z",
     "start_time": "2022-03-24T20:01:48.854746Z"
    },
    "colab": {
     "base_uri": "https://localhost:8080/"
    },
    "id": "Myur3i1KGhPf",
    "outputId": "f447c6f9-596b-41d0-ccda-50af0ce82108"
   },
   "outputs": [],
   "source": [
    "## How many results total?\n"
   ]
  },
  {
   "cell_type": "markdown",
   "metadata": {},
   "source": [
    "- Where is the actual data we want to save?"
   ]
  },
  {
   "cell_type": "code",
   "execution_count": null,
   "metadata": {},
   "outputs": [],
   "source": []
  },
  {
   "cell_type": "code",
   "execution_count": 60,
   "metadata": {},
   "outputs": [
    {
     "data": {
      "text/plain": [
       "20"
      ]
     },
     "execution_count": 60,
     "metadata": {},
     "output_type": "execute_result"
    }
   ],
   "source": [
    "## How many did we get the details for?\n",
    "results_per_page = len(results['businesses'])\n",
    "results_per_page"
   ]
  },
  {
   "cell_type": "markdown",
   "metadata": {},
   "source": [
    "- Calculate how many pages of results needed to cover the total_results"
   ]
  },
  {
   "cell_type": "code",
   "execution_count": 61,
   "metadata": {},
   "outputs": [
    {
     "data": {
      "text/plain": [
       "27"
      ]
     },
     "execution_count": 61,
     "metadata": {},
     "output_type": "execute_result"
    }
   ],
   "source": [
    "# Use math.ceil to round up for the total number of pages of results.\n",
    "import math\n",
    "n_pages = math.ceil(results['total']/results_per_page)\n",
    "n_pages"
   ]
  },
  {
   "cell_type": "code",
   "execution_count": 62,
   "metadata": {},
   "outputs": [],
   "source": [
    "# list(prev_df)\n"
   ]
  },
  {
   "cell_type": "code",
   "execution_count": 63,
   "metadata": {},
   "outputs": [
    {
     "data": {
      "application/vnd.jupyter.widget-view+json": {
       "model_id": "0f5f7f026f004dc096e7c539f20e06b4",
       "version_major": 2,
       "version_minor": 0
      },
      "text/plain": [
       "  0%|          | 0/27 [00:00<?, ?it/s]"
      ]
     },
     "metadata": {},
     "output_type": "display_data"
    }
   ],
   "source": [
    "for i in tqdm_notebook( range(1,n_pages+1)):\n",
    "    ## The block of code we want to TRY to run\n",
    "\n",
    "    ## Read in results in progress file and check the length\n",
    "    with open(JSON_FILE) as f:\n",
    "        prev_results = json.load(f)\n",
    "    \n",
    "    ## set offset based on previous results\n",
    "    n_results = len(prev_results)\n",
    "\n",
    "    ## save number of results for to use as offset\n",
    "    results = yelp.search_query(term=TERM, location=LOCATION,\n",
    "                               offset=n_results)\n",
    "\n",
    "\n",
    "\n",
    "    ## append new results and save to file\n",
    "    prev_results.extend( results['businesses'])\n",
    "\n",
    "    with open(JSON_FILE,'w') as f:\n",
    "        json.dump(prev_results,f)\n",
    "    ## What to do if we get an error/exception.\n",
    "        \n"
   ]
  },
  {
   "cell_type": "markdown",
   "metadata": {},
   "source": [
    "## Open the Final JSON File with Pandas"
   ]
  },
  {
   "cell_type": "code",
   "execution_count": 64,
   "metadata": {},
   "outputs": [
    {
     "data": {
      "text/html": [
       "<div>\n",
       "<style scoped>\n",
       "    .dataframe tbody tr th:only-of-type {\n",
       "        vertical-align: middle;\n",
       "    }\n",
       "\n",
       "    .dataframe tbody tr th {\n",
       "        vertical-align: top;\n",
       "    }\n",
       "\n",
       "    .dataframe thead th {\n",
       "        text-align: right;\n",
       "    }\n",
       "</style>\n",
       "<table border=\"1\" class=\"dataframe\">\n",
       "  <thead>\n",
       "    <tr style=\"text-align: right;\">\n",
       "      <th></th>\n",
       "      <th>id</th>\n",
       "      <th>alias</th>\n",
       "      <th>name</th>\n",
       "      <th>image_url</th>\n",
       "      <th>is_closed</th>\n",
       "      <th>url</th>\n",
       "      <th>review_count</th>\n",
       "      <th>categories</th>\n",
       "      <th>rating</th>\n",
       "      <th>coordinates</th>\n",
       "      <th>transactions</th>\n",
       "      <th>price</th>\n",
       "      <th>location</th>\n",
       "      <th>phone</th>\n",
       "      <th>display_phone</th>\n",
       "      <th>distance</th>\n",
       "    </tr>\n",
       "  </thead>\n",
       "  <tbody>\n",
       "    <tr>\n",
       "      <th>0</th>\n",
       "      <td>A3of5541V5SpJY-XC9WvFw</td>\n",
       "      <td>clark-burger-baltimore-3</td>\n",
       "      <td>Clark Burger</td>\n",
       "      <td>https://s3-media2.fl.yelpcdn.com/bphoto/pTrgSb...</td>\n",
       "      <td>False</td>\n",
       "      <td>https://www.yelp.com/biz/clark-burger-baltimor...</td>\n",
       "      <td>206</td>\n",
       "      <td>[{'alias': 'burgers', 'title': 'Burgers'}, {'a...</td>\n",
       "      <td>4.0</td>\n",
       "      <td>{'latitude': 39.2854812810579, 'longitude': -7...</td>\n",
       "      <td>[delivery, pickup]</td>\n",
       "      <td>$$</td>\n",
       "      <td>{'address1': '415 S Central Ave', 'address2': ...</td>\n",
       "      <td>+16673093516</td>\n",
       "      <td>(667) 309-3516</td>\n",
       "      <td>1404.572037</td>\n",
       "    </tr>\n",
       "    <tr>\n",
       "      <th>1</th>\n",
       "      <td>AQ56plNP56TIk3JswtoiMA</td>\n",
       "      <td>abbey-burger-bistro-baltimore-4</td>\n",
       "      <td>Abbey Burger Bistro</td>\n",
       "      <td>https://s3-media4.fl.yelpcdn.com/bphoto/_ZZ4nI...</td>\n",
       "      <td>False</td>\n",
       "      <td>https://www.yelp.com/biz/abbey-burger-bistro-b...</td>\n",
       "      <td>916</td>\n",
       "      <td>[{'alias': 'sportsbars', 'title': 'Sports Bars...</td>\n",
       "      <td>4.0</td>\n",
       "      <td>{'latitude': 39.2771835822848, 'longitude': -7...</td>\n",
       "      <td>[delivery, pickup]</td>\n",
       "      <td>$$</td>\n",
       "      <td>{'address1': '1041 Marshall St', 'address2': '...</td>\n",
       "      <td>+14434539698</td>\n",
       "      <td>(443) 453-9698</td>\n",
       "      <td>2161.212353</td>\n",
       "    </tr>\n",
       "    <tr>\n",
       "      <th>2</th>\n",
       "      <td>3j6GTI0V2Jshw8e1c3uFoA</td>\n",
       "      <td>the-urban-burger-bar-baltimore</td>\n",
       "      <td>The Urban Burger Bar</td>\n",
       "      <td>https://s3-media4.fl.yelpcdn.com/bphoto/1zNJ5c...</td>\n",
       "      <td>False</td>\n",
       "      <td>https://www.yelp.com/biz/the-urban-burger-bar-...</td>\n",
       "      <td>35</td>\n",
       "      <td>[{'alias': 'burgers', 'title': 'Burgers'}]</td>\n",
       "      <td>4.5</td>\n",
       "      <td>{'latitude': 39.32696, 'longitude': -76.63753}</td>\n",
       "      <td>[delivery, pickup]</td>\n",
       "      <td>$$</td>\n",
       "      <td>{'address1': '3300 Clipper Mill Rd', 'address2...</td>\n",
       "      <td></td>\n",
       "      <td></td>\n",
       "      <td>4242.702639</td>\n",
       "    </tr>\n",
       "    <tr>\n",
       "      <th>3</th>\n",
       "      <td>QHVUhI8JBAcqGj1JufDcHw</td>\n",
       "      <td>wiley-gunters-baltimore</td>\n",
       "      <td>Wiley Gunters</td>\n",
       "      <td>https://s3-media3.fl.yelpcdn.com/bphoto/Lc-4k9...</td>\n",
       "      <td>False</td>\n",
       "      <td>https://www.yelp.com/biz/wiley-gunters-baltimo...</td>\n",
       "      <td>136</td>\n",
       "      <td>[{'alias': 'burgers', 'title': 'Burgers'}, {'a...</td>\n",
       "      <td>4.5</td>\n",
       "      <td>{'latitude': 39.27174, 'longitude': -76.60223}</td>\n",
       "      <td>[delivery, pickup]</td>\n",
       "      <td>$$</td>\n",
       "      <td>{'address1': '823 E Fort Ave', 'address2': '',...</td>\n",
       "      <td>+14106373699</td>\n",
       "      <td>(410) 637-3699</td>\n",
       "      <td>2754.995467</td>\n",
       "    </tr>\n",
       "    <tr>\n",
       "      <th>4</th>\n",
       "      <td>DnhKT0A9OIgFdIhzNryJBw</td>\n",
       "      <td>abbey-burger-bistro-baltimore-6</td>\n",
       "      <td>Abbey Burger Bistro</td>\n",
       "      <td>https://s3-media3.fl.yelpcdn.com/bphoto/oq4-Iy...</td>\n",
       "      <td>False</td>\n",
       "      <td>https://www.yelp.com/biz/abbey-burger-bistro-b...</td>\n",
       "      <td>268</td>\n",
       "      <td>[{'alias': 'tradamerican', 'title': 'American ...</td>\n",
       "      <td>4.0</td>\n",
       "      <td>{'latitude': 39.2822776123555, 'longitude': -7...</td>\n",
       "      <td>[delivery, pickup]</td>\n",
       "      <td>$$</td>\n",
       "      <td>{'address1': '811 S Broadway', 'address2': '',...</td>\n",
       "      <td>+14105221428</td>\n",
       "      <td>(410) 522-1428</td>\n",
       "      <td>2009.275703</td>\n",
       "    </tr>\n",
       "    <tr>\n",
       "      <th>...</th>\n",
       "      <td>...</td>\n",
       "      <td>...</td>\n",
       "      <td>...</td>\n",
       "      <td>...</td>\n",
       "      <td>...</td>\n",
       "      <td>...</td>\n",
       "      <td>...</td>\n",
       "      <td>...</td>\n",
       "      <td>...</td>\n",
       "      <td>...</td>\n",
       "      <td>...</td>\n",
       "      <td>...</td>\n",
       "      <td>...</td>\n",
       "      <td>...</td>\n",
       "      <td>...</td>\n",
       "      <td>...</td>\n",
       "    </tr>\n",
       "    <tr>\n",
       "      <th>522</th>\n",
       "      <td>sJOcdfLvAnnBy6Vo0ylANQ</td>\n",
       "      <td>chris-seafood-baltimore</td>\n",
       "      <td>Chris' Seafood</td>\n",
       "      <td>https://s3-media1.fl.yelpcdn.com/bphoto/RpSPa-...</td>\n",
       "      <td>False</td>\n",
       "      <td>https://www.yelp.com/biz/chris-seafood-baltimo...</td>\n",
       "      <td>54</td>\n",
       "      <td>[{'alias': 'seafood', 'title': 'Seafood'}]</td>\n",
       "      <td>3.5</td>\n",
       "      <td>{'latitude': 39.2828178405762, 'longitude': -7...</td>\n",
       "      <td>[delivery, pickup]</td>\n",
       "      <td>$$</td>\n",
       "      <td>{'address1': '801 S Montford Ave', 'address2':...</td>\n",
       "      <td>+14106750117</td>\n",
       "      <td>(410) 675-0117</td>\n",
       "      <td>2628.043743</td>\n",
       "    </tr>\n",
       "    <tr>\n",
       "      <th>523</th>\n",
       "      <td>rtlLrtUn35c9Y2eIcxHT8g</td>\n",
       "      <td>kings-pizza-and-subs-baltimore-2</td>\n",
       "      <td>King's Pizza &amp; Subs</td>\n",
       "      <td>https://s3-media2.fl.yelpcdn.com/bphoto/9FEdeU...</td>\n",
       "      <td>False</td>\n",
       "      <td>https://www.yelp.com/biz/kings-pizza-and-subs-...</td>\n",
       "      <td>75</td>\n",
       "      <td>[{'alias': 'pizza', 'title': 'Pizza'}]</td>\n",
       "      <td>2.5</td>\n",
       "      <td>{'latitude': 39.33086, 'longitude': -76.63161}</td>\n",
       "      <td>[delivery, pickup]</td>\n",
       "      <td>$$</td>\n",
       "      <td>{'address1': '907 W 36th St', 'address2': None...</td>\n",
       "      <td>+14108893663</td>\n",
       "      <td>(410) 889-3663</td>\n",
       "      <td>4382.210159</td>\n",
       "    </tr>\n",
       "    <tr>\n",
       "      <th>524</th>\n",
       "      <td>cA-DS-nJlfl7IYre-rjH4Q</td>\n",
       "      <td>daily-grind-baltimore-8</td>\n",
       "      <td>Daily Grind</td>\n",
       "      <td>https://s3-media1.fl.yelpcdn.com/bphoto/jrsOvc...</td>\n",
       "      <td>False</td>\n",
       "      <td>https://www.yelp.com/biz/daily-grind-baltimore...</td>\n",
       "      <td>232</td>\n",
       "      <td>[{'alias': 'coffee', 'title': 'Coffee &amp; Tea'},...</td>\n",
       "      <td>3.5</td>\n",
       "      <td>{'latitude': 39.2821578979492, 'longitude': -7...</td>\n",
       "      <td>[delivery]</td>\n",
       "      <td>$</td>\n",
       "      <td>{'address1': '1720 Thames St', 'address2': '',...</td>\n",
       "      <td>+14105580399</td>\n",
       "      <td>(410) 558-0399</td>\n",
       "      <td>2079.005086</td>\n",
       "    </tr>\n",
       "    <tr>\n",
       "      <th>525</th>\n",
       "      <td>x6u_Xd5Zr6skcQsIUiUOng</td>\n",
       "      <td>jazzys-baltimore</td>\n",
       "      <td>Jazzy's</td>\n",
       "      <td>https://s3-media1.fl.yelpcdn.com/bphoto/NcDv9-...</td>\n",
       "      <td>False</td>\n",
       "      <td>https://www.yelp.com/biz/jazzys-baltimore?adju...</td>\n",
       "      <td>1</td>\n",
       "      <td>[{'alias': 'burgers', 'title': 'Burgers'}, {'a...</td>\n",
       "      <td>2.0</td>\n",
       "      <td>{'latitude': 39.322087392211, 'longitude': -76...</td>\n",
       "      <td>[delivery]</td>\n",
       "      <td>NaN</td>\n",
       "      <td>{'address1': '3320 Belair Rd', 'address2': '',...</td>\n",
       "      <td>+14105636222</td>\n",
       "      <td>(410) 563-6222</td>\n",
       "      <td>4134.435594</td>\n",
       "    </tr>\n",
       "    <tr>\n",
       "      <th>526</th>\n",
       "      <td>rMrTzM9EET0wszOng1eINA</td>\n",
       "      <td>chelles-kitchen-baltimore</td>\n",
       "      <td>Chelles kitchen</td>\n",
       "      <td>https://s3-media1.fl.yelpcdn.com/bphoto/M4RMzz...</td>\n",
       "      <td>False</td>\n",
       "      <td>https://www.yelp.com/biz/chelles-kitchen-balti...</td>\n",
       "      <td>11</td>\n",
       "      <td>[{'alias': 'hotdogs', 'title': 'Fast Food'}, {...</td>\n",
       "      <td>2.5</td>\n",
       "      <td>{'latitude': 39.32332, 'longitude': -76.57185}</td>\n",
       "      <td>[delivery, pickup]</td>\n",
       "      <td>NaN</td>\n",
       "      <td>{'address1': '3436 Belair Rd', 'address2': '',...</td>\n",
       "      <td>+14103014414</td>\n",
       "      <td>(410) 301-4414</td>\n",
       "      <td>4311.772603</td>\n",
       "    </tr>\n",
       "  </tbody>\n",
       "</table>\n",
       "<p>527 rows × 16 columns</p>\n",
       "</div>"
      ],
      "text/plain": [
       "                         id                             alias  \\\n",
       "0    A3of5541V5SpJY-XC9WvFw          clark-burger-baltimore-3   \n",
       "1    AQ56plNP56TIk3JswtoiMA   abbey-burger-bistro-baltimore-4   \n",
       "2    3j6GTI0V2Jshw8e1c3uFoA    the-urban-burger-bar-baltimore   \n",
       "3    QHVUhI8JBAcqGj1JufDcHw           wiley-gunters-baltimore   \n",
       "4    DnhKT0A9OIgFdIhzNryJBw   abbey-burger-bistro-baltimore-6   \n",
       "..                      ...                               ...   \n",
       "522  sJOcdfLvAnnBy6Vo0ylANQ           chris-seafood-baltimore   \n",
       "523  rtlLrtUn35c9Y2eIcxHT8g  kings-pizza-and-subs-baltimore-2   \n",
       "524  cA-DS-nJlfl7IYre-rjH4Q           daily-grind-baltimore-8   \n",
       "525  x6u_Xd5Zr6skcQsIUiUOng                  jazzys-baltimore   \n",
       "526  rMrTzM9EET0wszOng1eINA         chelles-kitchen-baltimore   \n",
       "\n",
       "                     name                                          image_url  \\\n",
       "0            Clark Burger  https://s3-media2.fl.yelpcdn.com/bphoto/pTrgSb...   \n",
       "1     Abbey Burger Bistro  https://s3-media4.fl.yelpcdn.com/bphoto/_ZZ4nI...   \n",
       "2    The Urban Burger Bar  https://s3-media4.fl.yelpcdn.com/bphoto/1zNJ5c...   \n",
       "3           Wiley Gunters  https://s3-media3.fl.yelpcdn.com/bphoto/Lc-4k9...   \n",
       "4     Abbey Burger Bistro  https://s3-media3.fl.yelpcdn.com/bphoto/oq4-Iy...   \n",
       "..                    ...                                                ...   \n",
       "522        Chris' Seafood  https://s3-media1.fl.yelpcdn.com/bphoto/RpSPa-...   \n",
       "523   King's Pizza & Subs  https://s3-media2.fl.yelpcdn.com/bphoto/9FEdeU...   \n",
       "524           Daily Grind  https://s3-media1.fl.yelpcdn.com/bphoto/jrsOvc...   \n",
       "525               Jazzy's  https://s3-media1.fl.yelpcdn.com/bphoto/NcDv9-...   \n",
       "526       Chelles kitchen  https://s3-media1.fl.yelpcdn.com/bphoto/M4RMzz...   \n",
       "\n",
       "     is_closed                                                url  \\\n",
       "0        False  https://www.yelp.com/biz/clark-burger-baltimor...   \n",
       "1        False  https://www.yelp.com/biz/abbey-burger-bistro-b...   \n",
       "2        False  https://www.yelp.com/biz/the-urban-burger-bar-...   \n",
       "3        False  https://www.yelp.com/biz/wiley-gunters-baltimo...   \n",
       "4        False  https://www.yelp.com/biz/abbey-burger-bistro-b...   \n",
       "..         ...                                                ...   \n",
       "522      False  https://www.yelp.com/biz/chris-seafood-baltimo...   \n",
       "523      False  https://www.yelp.com/biz/kings-pizza-and-subs-...   \n",
       "524      False  https://www.yelp.com/biz/daily-grind-baltimore...   \n",
       "525      False  https://www.yelp.com/biz/jazzys-baltimore?adju...   \n",
       "526      False  https://www.yelp.com/biz/chelles-kitchen-balti...   \n",
       "\n",
       "     review_count                                         categories  rating  \\\n",
       "0             206  [{'alias': 'burgers', 'title': 'Burgers'}, {'a...     4.0   \n",
       "1             916  [{'alias': 'sportsbars', 'title': 'Sports Bars...     4.0   \n",
       "2              35         [{'alias': 'burgers', 'title': 'Burgers'}]     4.5   \n",
       "3             136  [{'alias': 'burgers', 'title': 'Burgers'}, {'a...     4.5   \n",
       "4             268  [{'alias': 'tradamerican', 'title': 'American ...     4.0   \n",
       "..            ...                                                ...     ...   \n",
       "522            54         [{'alias': 'seafood', 'title': 'Seafood'}]     3.5   \n",
       "523            75             [{'alias': 'pizza', 'title': 'Pizza'}]     2.5   \n",
       "524           232  [{'alias': 'coffee', 'title': 'Coffee & Tea'},...     3.5   \n",
       "525             1  [{'alias': 'burgers', 'title': 'Burgers'}, {'a...     2.0   \n",
       "526            11  [{'alias': 'hotdogs', 'title': 'Fast Food'}, {...     2.5   \n",
       "\n",
       "                                           coordinates        transactions  \\\n",
       "0    {'latitude': 39.2854812810579, 'longitude': -7...  [delivery, pickup]   \n",
       "1    {'latitude': 39.2771835822848, 'longitude': -7...  [delivery, pickup]   \n",
       "2       {'latitude': 39.32696, 'longitude': -76.63753}  [delivery, pickup]   \n",
       "3       {'latitude': 39.27174, 'longitude': -76.60223}  [delivery, pickup]   \n",
       "4    {'latitude': 39.2822776123555, 'longitude': -7...  [delivery, pickup]   \n",
       "..                                                 ...                 ...   \n",
       "522  {'latitude': 39.2828178405762, 'longitude': -7...  [delivery, pickup]   \n",
       "523     {'latitude': 39.33086, 'longitude': -76.63161}  [delivery, pickup]   \n",
       "524  {'latitude': 39.2821578979492, 'longitude': -7...          [delivery]   \n",
       "525  {'latitude': 39.322087392211, 'longitude': -76...          [delivery]   \n",
       "526     {'latitude': 39.32332, 'longitude': -76.57185}  [delivery, pickup]   \n",
       "\n",
       "    price                                           location         phone  \\\n",
       "0      $$  {'address1': '415 S Central Ave', 'address2': ...  +16673093516   \n",
       "1      $$  {'address1': '1041 Marshall St', 'address2': '...  +14434539698   \n",
       "2      $$  {'address1': '3300 Clipper Mill Rd', 'address2...                 \n",
       "3      $$  {'address1': '823 E Fort Ave', 'address2': '',...  +14106373699   \n",
       "4      $$  {'address1': '811 S Broadway', 'address2': '',...  +14105221428   \n",
       "..    ...                                                ...           ...   \n",
       "522    $$  {'address1': '801 S Montford Ave', 'address2':...  +14106750117   \n",
       "523    $$  {'address1': '907 W 36th St', 'address2': None...  +14108893663   \n",
       "524     $  {'address1': '1720 Thames St', 'address2': '',...  +14105580399   \n",
       "525   NaN  {'address1': '3320 Belair Rd', 'address2': '',...  +14105636222   \n",
       "526   NaN  {'address1': '3436 Belair Rd', 'address2': '',...  +14103014414   \n",
       "\n",
       "      display_phone     distance  \n",
       "0    (667) 309-3516  1404.572037  \n",
       "1    (443) 453-9698  2161.212353  \n",
       "2                    4242.702639  \n",
       "3    (410) 637-3699  2754.995467  \n",
       "4    (410) 522-1428  2009.275703  \n",
       "..              ...          ...  \n",
       "522  (410) 675-0117  2628.043743  \n",
       "523  (410) 889-3663  4382.210159  \n",
       "524  (410) 558-0399  2079.005086  \n",
       "525  (410) 563-6222  4134.435594  \n",
       "526  (410) 301-4414  4311.772603  \n",
       "\n",
       "[527 rows x 16 columns]"
      ]
     },
     "execution_count": 64,
     "metadata": {},
     "output_type": "execute_result"
    }
   ],
   "source": [
    "df = pd.read_json(JSON_FILE)\n",
    "df"
   ]
  },
  {
   "cell_type": "code",
   "execution_count": 67,
   "metadata": {},
   "outputs": [
    {
     "data": {
      "text/plain": [
       "0"
      ]
     },
     "execution_count": 67,
     "metadata": {},
     "output_type": "execute_result"
    }
   ],
   "source": [
    "df.duplicated(subset='id').sum()"
   ]
  },
  {
   "cell_type": "code",
   "execution_count": 68,
   "metadata": {},
   "outputs": [
    {
     "data": {
      "text/plain": [
       "'Data/Baltimore-Burgers.csv.gz'"
      ]
     },
     "execution_count": 68,
     "metadata": {},
     "output_type": "execute_result"
    }
   ],
   "source": [
    "## convert the filename to a .csv.gz\n",
    "csv_file = JSON_FILE.replace('.json','.csv.gz')\n",
    "csv_file"
   ]
  },
  {
   "cell_type": "code",
   "execution_count": 69,
   "metadata": {},
   "outputs": [],
   "source": [
    "## Save it as a compressed csv (to save space)\n",
    "df.to_csv(csv_file, compression='gzip', index=False)"
   ]
  },
  {
   "cell_type": "markdown",
   "metadata": {},
   "source": [
    "## Bonus: compare filesize with os module's `os.path.getsize`"
   ]
  },
  {
   "cell_type": "code",
   "execution_count": 70,
   "metadata": {},
   "outputs": [
    {
     "name": "stdout",
     "output_type": "stream",
     "text": [
      "JSON FILE: 517,478 Bytes\n",
      "CSV.GZ FILE: 72,888 Bytes\n",
      "the csv.gz is 7.099632312589178 times smaller!\n"
     ]
    }
   ],
   "source": [
    "size_json = os.path.getsize(JSON_FILE)\n",
    "size_csv_gz = os.path.getsize(csv_file)\n",
    "\n",
    "print(f'JSON FILE: {size_json:,} Bytes')\n",
    "print(f'CSV.GZ FILE: {size_csv_gz:,} Bytes')\n",
    "\n",
    "print(f'the csv.gz is {size_json/size_csv_gz} times smaller!')"
   ]
  },
  {
   "cell_type": "markdown",
   "metadata": {},
   "source": [
    "## Next Class: Processing the Results and Mapping "
   ]
  }
 ],
 "metadata": {
  "colab": {
   "collapsed_sections": [],
   "name": "Test Yelp API Package.ipynb",
   "provenance": []
  },
  "kernelspec": {
   "display_name": "Python (dojo-env-m1)",
   "language": "python",
   "name": "dojo-env-m1"
  },
  "language_info": {
   "codemirror_mode": {
    "name": "ipython",
    "version": 3
   },
   "file_extension": ".py",
   "mimetype": "text/x-python",
   "name": "python",
   "nbconvert_exporter": "python",
   "pygments_lexer": "ipython3",
   "version": "3.8.13"
  },
  "toc": {
   "base_numbering": 1,
   "nav_menu": {},
   "number_sections": false,
   "sideBar": true,
   "skip_h1_title": false,
   "title_cell": "Table of Contents",
   "title_sidebar": "Contents",
   "toc_cell": false,
   "toc_position": {},
   "toc_section_display": true,
   "toc_window_display": true
  }
 },
 "nbformat": 4,
 "nbformat_minor": 1
}
